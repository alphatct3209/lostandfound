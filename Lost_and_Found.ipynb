{
  "nbformat": 4,
  "nbformat_minor": 0,
  "metadata": {
    "colab": {
      "provenance": [],
      "authorship_tag": "ABX9TyPY3VHNDKCec/jEoPl3nD1B",
      "include_colab_link": true
    },
    "kernelspec": {
      "name": "python3",
      "display_name": "Python 3"
    },
    "language_info": {
      "name": "python"
    }
  },
  "cells": [
    {
      "cell_type": "markdown",
      "metadata": {
        "id": "view-in-github",
        "colab_type": "text"
      },
      "source": [
        "<a href=\"https://colab.research.google.com/github/alphatct3209/lostandfound/blob/main/Lost_and_Found.ipynb\" target=\"_parent\"><img src=\"https://colab.research.google.com/assets/colab-badge.svg\" alt=\"Open In Colab\"/></a>"
      ]
    },
    {
      "cell_type": "code",
      "execution_count": null,
      "metadata": {
        "colab": {
          "base_uri": "https://localhost:8080/"
        },
        "id": "NsHYdc7dHC7y",
        "outputId": "ba639626-3657-4a82-f738-bcaa5c34786d"
      },
      "outputs": [
        {
          "name": "stdout",
          "output_type": "stream",
          "text": [
            "Select a function to begin. \n",
            "[1] Report a lost item \n",
            "[2] Find a lost item \n",
            "[3] Exit\n",
            "Function:1\n",
            "You have chosen to report an item.\n",
            "Item name:123\n",
            "Item Saved.\n",
            "Select a function to begin. \n",
            "[1] Report a lost item \n",
            "[2] Find a lost item \n",
            "[3] Exit\n",
            "Function:2\n",
            "You have chosen to find an item.\n",
            "Item name:123\n",
            "Item Found.\n",
            "Collect item? Y/Ny\n"
          ]
        }
      ],
      "source": [
        "database = [\"doll\",\"pillow\",\"dog\"]\n",
        "\n",
        "\n",
        "def start():\n",
        "  print (\"Select a function to begin. \\n[1] Report a lost item \\n[2] Find a lost item \\n[3] Exit\")\n",
        "  lor = input(\"Function:\")\n",
        "\n",
        "  if lor == '1':\n",
        "    print(\"You have chosen to report an item.\")\n",
        "    lname = input(\"Item name:\").lower()\n",
        "    database.append(lname)\n",
        "    print(\"Item Saved.\")\n",
        "    start()\n",
        "\n",
        "  if lor == '2':\n",
        "    print(\"You have chosen to find an item.\")\n",
        "    fname = input(\"Item name:\").lower()\n",
        "    if fname in database:\n",
        "      print(\"Item Found.\")\n",
        "      confirm = input(\"Collect item? Y/N\").lower()\n",
        "      if confirm == 'Y':\n",
        "       database.remove(fname)\n",
        "       start()\n",
        "    else:\n",
        "      print(\"Item not Found.\")\n",
        "      start()\n",
        "\n",
        "  if lor == '3':\n",
        "    return\n",
        "start()"
      ]
    }
  ]
}